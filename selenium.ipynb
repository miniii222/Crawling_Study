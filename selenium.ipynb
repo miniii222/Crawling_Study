{
 "cells": [
  {
   "cell_type": "code",
   "execution_count": 1,
   "metadata": {},
   "outputs": [],
   "source": [
    "from selenium import webdriver\n",
    "dr = webdriver.Chrome('C:/Users/wjssm/Documents/chromedriver.exe') #dr = 웹창"
   ]
  },
  {
   "cell_type": "code",
   "execution_count": 2,
   "metadata": {},
   "outputs": [],
   "source": [
    "dr.get('https://extmovie.maxmovie.com/xe/index.php?mid=moviedb')"
   ]
  },
  {
   "cell_type": "markdown",
   "metadata": {},
   "source": [
    "- find_element_by : 반환 1개(맨 처음에 나오는 값만 반환)\n",
    "- find_elements_by : 반환 list"
   ]
  },
  {
   "cell_type": "markdown",
   "metadata": {},
   "source": [
    "##### dr.find_element_by_css_selector('태그[속성  = \"속성값\"]' )             < - element\n",
    "\n",
    "- table -> tb -> tr -> td 순으로 해야 편함"
   ]
  },
  {
   "cell_type": "code",
   "execution_count": 6,
   "metadata": {},
   "outputs": [],
   "source": [
    "tbl = dr.find_element_by_css_selector('table[id=\"bd_lst\"]') #먼저 table을 가져 옴\n",
    "tbd = tbl.find_element_by_css_selector('tbody')\n",
    "trs = tbd.find_elements_by_css_selector('tr') #list로 return\n",
    "cls = []"
   ]
  },
  {
   "cell_type": "code",
   "execution_count": 8,
   "metadata": {},
   "outputs": [
    {
     "name": "stdout",
     "output_type": "stream",
     "text": [
      "['웨스턴', '범죄&느와르', '로맨스', '드라마', '드라마', '드라마', '괴수&몬스터', '범죄&느와르', '액션&어드벤쳐', '액션&어드벤쳐', '공포&호러', '범죄&느와르', '드라마', '로맨스', '액션&어드벤쳐', '전쟁', '전쟁', '전쟁', '판타지', '판타지']\n"
     ]
    }
   ],
   "source": [
    "for tr in trs :\n",
    "    tds = tr.find_elements_by_css_selector('td')\n",
    "    cls.append(tds[1].text)\n",
    "    \n",
    "print(cls)"
   ]
  }
 ],
 "metadata": {
  "kernelspec": {
   "display_name": "Python 3",
   "language": "python",
   "name": "python3"
  },
  "language_info": {
   "codemirror_mode": {
    "name": "ipython",
    "version": 3
   },
   "file_extension": ".py",
   "mimetype": "text/x-python",
   "name": "python",
   "nbconvert_exporter": "python",
   "pygments_lexer": "ipython3",
   "version": "3.6.5"
  }
 },
 "nbformat": 4,
 "nbformat_minor": 2
}
