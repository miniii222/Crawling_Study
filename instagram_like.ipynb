{
 "cells": [
  {
   "cell_type": "code",
   "execution_count": 1,
   "metadata": {},
   "outputs": [],
   "source": [
    "import time\n",
    "import random\n",
    "from selenium import webdriver\n",
    "from urllib.parse import quote"
   ]
  },
  {
   "cell_type": "code",
   "execution_count": 2,
   "metadata": {},
   "outputs": [],
   "source": [
    "nn = 'id' #id\n",
    "password = 'pw'#password"
   ]
  },
  {
   "cell_type": "code",
   "execution_count": 6,
   "metadata": {},
   "outputs": [],
   "source": [
    "browser = webdriver.Chrome('C:\\\\Users\\\\wjssm\\\\Documents\\\\chromedriver')\n",
    "browser.get('https://www.instagram.com/accounts/login/')"
   ]
  },
  {
   "cell_type": "markdown",
   "metadata": {},
   "source": [
    "instaram 사이트 특성상 창 크기나 스크롤의 위치에 따라 다를 수 있음"
   ]
  },
  {
   "cell_type": "markdown",
   "metadata": {},
   "source": [
    "# login"
   ]
  },
  {
   "cell_type": "code",
   "execution_count": 9,
   "metadata": {},
   "outputs": [],
   "source": [
    "def login(id, password):\n",
    "\n",
    "    #id\n",
    "    id_box = browser.find_element_by_css_selector('input[name=\"username\"]')\n",
    "    id_box.send_keys(id)\n",
    "  \n",
    "    #pw\n",
    "    pw_box = browser.find_element_by_css_selector('input[type=\"password\"]')\n",
    "    pw_box.send_keys(password)\n",
    "    \n",
    "    time.sleep(2)\n",
    "    \n",
    "    #login click    \n",
    "    browser.find_element_by_css_selector('button').click()"
   ]
  },
  {
   "cell_type": "code",
   "execution_count": 10,
   "metadata": {},
   "outputs": [],
   "source": [
    "login(nn,password)"
   ]
  },
  {
   "cell_type": "markdown",
   "metadata": {},
   "source": [
    "## timeline 좋아요"
   ]
  },
  {
   "cell_type": "code",
   "execution_count": 16,
   "metadata": {},
   "outputs": [],
   "source": [
    "def timeline_like(timeline_like_count):\n",
    "    \n",
    "    like=browser.find_elements_by_css_selector('button[class=\"coreSpriteHeartOpen oF4XW dCJp8\"]')\n",
    "    \n",
    "\n",
    "    for i in range(timeline_like_count) :\n",
    "\n",
    "        like[i].click()\n",
    "        time.sleep(1)\n",
    "\n",
    "        "
   ]
  },
  {
   "cell_type": "code",
   "execution_count": 17,
   "metadata": {},
   "outputs": [],
   "source": [
    "timeline_like_count=3\n",
    "timeline_like(timeline_like_count)"
   ]
  },
  {
   "cell_type": "markdown",
   "metadata": {},
   "source": [
    "## hashtag 좋아요"
   ]
  },
  {
   "cell_type": "code",
   "execution_count": 28,
   "metadata": {},
   "outputs": [],
   "source": [
    "def hash_tags_like(hash_tags, hot_count, new_count):\n",
    "    browser.get('https://www.instagram.com/explore/tags/'+hash_tags+'/')    \n",
    "    time.sleep(5)\n",
    "    \n",
    "    browser.execute_script(\"window.scrollTo(0, document.body.scrollHeight);\")\n",
    "    \n",
    "    #맨 처음 사진 클릭\n",
    "    browser.find_element_by_css_selector('div[class=\"eLAPa\"]').click()    \n",
    "    \n",
    "    time.sleep(3)\n",
    "    \n",
    "    #hot_like\n",
    "    for i in range(hot_count) :\n",
    "        \n",
    "        #좋아요\n",
    "        browser.find_element_by_css_selector('span[class=\"fr66n\"]').find_element_by_css_selector('span').click()\n",
    "        time.sleep(2)\n",
    "        #next_page\n",
    "        browser.find_element_by_css_selector('a[class=\"HBoOv coreSpriteRightPaginationArrow\"]').click()\n",
    "        time.sleep(2)\n",
    "    #exit\n",
    "    browser.find_element_by_css_selector('button[class=\"ckWGn\"]').click()\n",
    "    time.sleep(2)    \n",
    "    \n",
    "    \n",
    "    #new_like\n",
    "    #첫번쨰 사진 클릭\n",
    "    browser.find_elements_by_css_selector('div[class=\"v1Nh3 kIKUG  _bz0w\"]')[9].click()\n",
    "    time.sleep(2) \n",
    "    \n",
    "    for i in range(new_count) :\n",
    "        #좋아요\n",
    "        browser.find_element_by_css_selector('span[class=\"fr66n\"]').find_element_by_css_selector('span').click()\n",
    "        time.sleep(2)\n",
    "        #next_page\n",
    "        browser.find_element_by_css_selector('a[class=\"HBoOv coreSpriteRightPaginationArrow\"]').click()\n",
    "        time.sleep(2)\n",
    "        \n",
    "    #exit\n",
    "    browser.find_element_by_css_selector('button[class=\"ckWGn\"]').click()"
   ]
  },
  {
   "cell_type": "code",
   "execution_count": 29,
   "metadata": {},
   "outputs": [],
   "source": [
    "hash_tags_like('사과',3,3)"
   ]
  },
  {
   "cell_type": "markdown",
   "metadata": {},
   "source": [
    "## 위치"
   ]
  },
  {
   "cell_type": "code",
   "execution_count": 72,
   "metadata": {},
   "outputs": [],
   "source": [
    "def location_like(location,hot_count,new_count) :\n",
    "    \n",
    "    #검색\n",
    "    input = browser.find_element_by_css_selector('input[class=\"XTCLo x3qfX \"]')\n",
    "    input.send_keys(location)\n",
    "    \n",
    "    time.sleep(2)\n",
    "    \n",
    "    #위치태그 찾기\n",
    "    div = browser.find_element_by_css_selector('div[class = \"fuqBx\"]')\n",
    "    a = div.find_elements_by_css_selector('a')\n",
    "\n",
    "    i=0\n",
    "    while True :\n",
    "        href = a[i].get_attribute('href')\n",
    "\n",
    "        if href.split('/')[4] == 'locations' :\n",
    "            j=i\n",
    "            break\n",
    "        i=i+1\n",
    "        \n",
    "    a[j].click()\n",
    "    time.sleep(5)\n",
    "\n",
    "    browser.execute_script(\"window.scrollTo(0, document.body.scrollHeight);\")\n",
    "    \n",
    "    #맨 처음 사진 클릭\n",
    "    browser.find_element_by_css_selector('div[class=\"eLAPa\"]').click()    \n",
    "    \n",
    "    time.sleep(3)\n",
    "    \n",
    "    #hot_like\n",
    "    for i in range(hot_count) :\n",
    "        \n",
    "        #좋아요\n",
    "        browser.find_element_by_css_selector('span[class=\"fr66n\"]').find_element_by_css_selector('span').click()\n",
    "        time.sleep(2)\n",
    "        #next_page\n",
    "        browser.find_element_by_css_selector('a[class=\"HBoOv coreSpriteRightPaginationArrow\"]').click()\n",
    "        time.sleep(2)\n",
    "    #exit\n",
    "    browser.find_element_by_css_selector('button[class=\"ckWGn\"]').click()\n",
    "    time.sleep(2)    \n",
    "    \n",
    "    \n",
    "    #new_like\n",
    "    #첫번쨰 사진 클릭\n",
    "    browser.find_elements_by_css_selector('div[class=\"v1Nh3 kIKUG  _bz0w\"]')[9].click()\n",
    "    time.sleep(2) \n",
    "    \n",
    "    for i in range(new_count) :\n",
    "        #좋아요\n",
    "        browser.find_element_by_css_selector('span[class=\"fr66n\"]').find_element_by_css_selector('span').click()\n",
    "        time.sleep(2)\n",
    "        #next_page\n",
    "        browser.find_element_by_css_selector('a[class=\"HBoOv coreSpriteRightPaginationArrow\"]').click()\n",
    "        time.sleep(2)\n",
    "        \n",
    "    #exit\n",
    "    browser.find_element_by_css_selector('button[class=\"ckWGn\"]').click()"
   ]
  },
  {
   "cell_type": "code",
   "execution_count": 73,
   "metadata": {},
   "outputs": [],
   "source": [
    "location = ['사당역']\n",
    "location_like(location,3,3)"
   ]
  },
  {
   "cell_type": "markdown",
   "metadata": {},
   "source": [
    "# boaz like count"
   ]
  },
  {
   "cell_type": "code",
   "execution_count": 74,
   "metadata": {},
   "outputs": [],
   "source": [
    "browser.get('https://www.instagram.com/boaz_bigdata/')"
   ]
  },
  {
   "cell_type": "code",
   "execution_count": 78,
   "metadata": {},
   "outputs": [],
   "source": [
    "def like_list() :\n",
    "    #like list\n",
    "    div = browser.find_element_by_css_selector('div[class=\"HbPOm y9v3U\"]')\n",
    "    div.find_element_by_css_selector('a').click()\n",
    "    \n",
    "    time.sleep(1)\n",
    "    # Get scroll height\n",
    "    last_height = browser.execute_script(\"return document.body.scrollHeight\")\n",
    "    while True:\n",
    "        # Scroll down to bottom\n",
    "        browser.execute_script(\"window.scrollTo(0, document.body.scrollHeight);\")        \n",
    "        # Wait to load page\n",
    "        time.sleep(1)\n",
    "\n",
    "        # Calculate new scroll height and compare with last scroll height\n",
    "        new_height = browser.execute_script(\"return document.body.scrollHeight\")\n",
    "        if new_height == last_height:\n",
    "            break\n",
    "        last_height = new_height\n",
    "    \n",
    "    lis = browser.find_elements_by_css_selector('li[class=\"wo9IH\"]')\n",
    "    for i in lis :\n",
    "        div = i.find_element_by_css_selector('div[class=\"d7ByH\"]')\n",
    "        names = div.find_element_by_css_selector('a')\n",
    "        name.append(names.text)"
   ]
  },
  {
   "cell_type": "code",
   "execution_count": 80,
   "metadata": {},
   "outputs": [],
   "source": [
    "n=25 #게시물 개수\n",
    "#first picture\n",
    "browser.find_element_by_css_selector('div[class=\"_9AhH0\"]').click()\n",
    "time.sleep(2)\n",
    "name=[]\n",
    "\n",
    "for j in range(n-1) :\n",
    "    like_list()\n",
    "    time.sleep(1)\n",
    "    #next_page\n",
    "    div = browser.find_element_by_css_selector('div[class=\"D1AKJ\"]')\n",
    "    div.find_element_by_css_selector('a[class=\"HBoOv coreSpriteRightPaginationArrow\"]').click()\n",
    "    time.sleep(1)\n",
    "    \n",
    "like_list()"
   ]
  },
  {
   "cell_type": "code",
   "execution_count": 82,
   "metadata": {},
   "outputs": [],
   "source": [
    "import pandas as pd"
   ]
  },
  {
   "cell_type": "code",
   "execution_count": 83,
   "metadata": {},
   "outputs": [
    {
     "data": {
      "text/html": [
       "<div>\n",
       "<style scoped>\n",
       "    .dataframe tbody tr th:only-of-type {\n",
       "        vertical-align: middle;\n",
       "    }\n",
       "\n",
       "    .dataframe tbody tr th {\n",
       "        vertical-align: top;\n",
       "    }\n",
       "\n",
       "    .dataframe thead th {\n",
       "        text-align: right;\n",
       "    }\n",
       "</style>\n",
       "<table border=\"1\" class=\"dataframe\">\n",
       "  <thead>\n",
       "    <tr style=\"text-align: right;\">\n",
       "      <th></th>\n",
       "      <th>name</th>\n",
       "    </tr>\n",
       "  </thead>\n",
       "  <tbody>\n",
       "    <tr>\n",
       "      <th>0</th>\n",
       "      <td>heungbae.lee</td>\n",
       "    </tr>\n",
       "    <tr>\n",
       "      <th>1</th>\n",
       "      <td>park_hs__</td>\n",
       "    </tr>\n",
       "    <tr>\n",
       "      <th>2</th>\n",
       "      <td>kiilliig</td>\n",
       "    </tr>\n",
       "    <tr>\n",
       "      <th>3</th>\n",
       "      <td>life_ez_awesome</td>\n",
       "    </tr>\n",
       "    <tr>\n",
       "      <th>4</th>\n",
       "      <td>misaeng12</td>\n",
       "    </tr>\n",
       "  </tbody>\n",
       "</table>\n",
       "</div>"
      ],
      "text/plain": [
       "              name\n",
       "0     heungbae.lee\n",
       "1        park_hs__\n",
       "2         kiilliig\n",
       "3  life_ez_awesome\n",
       "4        misaeng12"
      ]
     },
     "execution_count": 83,
     "metadata": {},
     "output_type": "execute_result"
    }
   ],
   "source": [
    "names = pd.DataFrame({'name' : name})\n",
    "names.head()"
   ]
  },
  {
   "cell_type": "code",
   "execution_count": 84,
   "metadata": {},
   "outputs": [
    {
     "data": {
      "text/plain": [
       "yyooo_uuu             13\n",
       "callmejimmi           12\n",
       "misaeng12             12\n",
       "songdaring            11\n",
       "2.jaejun              11\n",
       "yeah_jiee             11\n",
       "_hee_ryung_           11\n",
       "sieun_106             10\n",
       "thuruk                 9\n",
       "heungbae.lee           9\n",
       "daan.b_v               8\n",
       "oungji212              8\n",
       "park_hs__              7\n",
       "data.scientist         6\n",
       "taehee_dat             5\n",
       "inspark9               5\n",
       "yeyeseoul              4\n",
       "boaz_bigdata           4\n",
       "27.feb.yon             4\n",
       "lyaechan               4\n",
       "choon_spring           4\n",
       "gyuwonable             4\n",
       "life_ez_awesome        4\n",
       "sietesera213           4\n",
       "omacompany             4\n",
       "hadassahsmantle        4\n",
       "tjsdn9508              3\n",
       "hoebin_j               3\n",
       "why_not__art___        3\n",
       "hs_pak                 3\n",
       "                      ..\n",
       "withpiano_dongtan      1\n",
       "hahaou97               1\n",
       "clnk.official          1\n",
       "live_themmnts          1\n",
       "jiyeon_kk              1\n",
       "contentimpact          1\n",
       "aurora97oi             1\n",
       "ben_likes_             1\n",
       "campus_koo             1\n",
       "fit.jelly_             1\n",
       "jlee.0617              1\n",
       "withpiano_hongdae      1\n",
       "joshuawilderoakley     1\n",
       "yoon96j                1\n",
       "tongglobal             1\n",
       "studio5hundred         1\n",
       "h__kimm                1\n",
       "lenwlf242              1\n",
       "hokifo93               1\n",
       "clownmcacademy         1\n",
       "chlwogur34             1\n",
       "sonstar1023            1\n",
       "lala_party_studio      1\n",
       "kjw.0                  1\n",
       "hjs0421                1\n",
       "nsx2126                1\n",
       "sakong_yong_hyub       1\n",
       "hwangeunji02           1\n",
       "blockchainmagazine     1\n",
       "traumacam              1\n",
       "Name: name, Length: 101, dtype: int64"
      ]
     },
     "execution_count": 84,
     "metadata": {},
     "output_type": "execute_result"
    }
   ],
   "source": [
    "names['name'].value_counts()"
   ]
  }
 ],
 "metadata": {
  "kernelspec": {
   "display_name": "Python 3",
   "language": "python",
   "name": "python3"
  },
  "language_info": {
   "codemirror_mode": {
    "name": "ipython",
    "version": 3
   },
   "file_extension": ".py",
   "mimetype": "text/x-python",
   "name": "python",
   "nbconvert_exporter": "python",
   "pygments_lexer": "ipython3",
   "version": "3.6.5"
  }
 },
 "nbformat": 4,
 "nbformat_minor": 2
}
